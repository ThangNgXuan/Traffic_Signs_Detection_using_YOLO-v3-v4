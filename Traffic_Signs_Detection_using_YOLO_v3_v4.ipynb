{
  "nbformat": 4,
  "nbformat_minor": 0,
  "metadata": {
    "colab": {
      "name": "Traffic_Signs_Detection_using_YOLO v3-v4",
      "provenance": [],
      "collapsed_sections": []
    },
    "kernelspec": {
      "name": "python3",
      "display_name": "Python 3"
    },
    "language_info": {
      "name": "python"
    },
    "accelerator": "GPU"
  },
  "cells": [
    {
      "cell_type": "markdown",
      "source": [
        "# Các bước cài đặt và khởi tạo Darknet framework"
      ],
      "metadata": {
        "id": "m4W6TSh622b9"
      }
    },
    {
      "cell_type": "markdown",
      "source": [
        "Đồng bộ thư mục của gg drive lên gg colab"
      ],
      "metadata": {
        "id": "cu-2Ws3T1gCl"
      }
    },
    {
      "cell_type": "code",
      "source": [
        "from google.colab import drive\n",
        "drive.mount('/content/drive')"
      ],
      "metadata": {
        "colab": {
          "base_uri": "https://localhost:8080/"
        },
        "id": "05u_-4l1bPW1",
        "outputId": "8b25b87b-8b66-49f7-8cfa-eea92f764baa"
      },
      "execution_count": 1,
      "outputs": [
        {
          "output_type": "stream",
          "name": "stdout",
          "text": [
            "Mounted at /content/drive\n"
          ]
        }
      ]
    },
    {
      "cell_type": "markdown",
      "source": [
        "Unzip file nén darknet.zip theo đường dẫn trong gg drive"
      ],
      "metadata": {
        "id": "jNW3w3GR0wC4"
      }
    },
    {
      "cell_type": "code",
      "source": [
        "%cd /content\n",
        "!unzip /content/drive/'My Drive'/ML/darknet.zip\n",
        "%cd /content/darknet"
      ],
      "metadata": {
        "id": "PiZFpla-c8gH"
      },
      "execution_count": null,
      "outputs": []
    },
    {
      "cell_type": "markdown",
      "source": [
        "Chạy dòng sau tránh bị lỗi các file trong quá trình training"
      ],
      "metadata": {
        "id": "SPa1b2hd15Iw"
      }
    },
    {
      "cell_type": "code",
      "source": [
        "%cd /content/darknet\n",
        "!sudo apt install dos2unix\n",
        "!dos2unix cfg/yolov3_ts_train.cfg cfg/yolov3_ts_test.cfg Traffic_sign_YOLO/train.txt Traffic_sign_YOLO/val.txt Traffic_sign_YOLO/classes.names Traffic_sign_YOLO/ts_data.data"
      ],
      "metadata": {
        "id": "xc1xFEF6ehCH"
      },
      "execution_count": null,
      "outputs": []
    },
    {
      "cell_type": "markdown",
      "source": [
        "Biên dịch file makefile trong thư mục darknet"
      ],
      "metadata": {
        "id": "DrjICT582TA1"
      }
    },
    {
      "cell_type": "code",
      "source": [
        "%cd /content/darknet\n",
        "!make clean\n",
        "!make\n",
        "!chmod +x ./darknet"
      ],
      "metadata": {
        "id": "beOmaqxdfG2w"
      },
      "execution_count": null,
      "outputs": []
    },
    {
      "cell_type": "markdown",
      "source": [
        "Remove các tệp trong folder backup của gg colab và paste sang folder backup của gg drive"
      ],
      "metadata": {
        "id": "RygREO-B2YoW"
      }
    },
    {
      "cell_type": "code",
      "source": [
        "!rm /content/darknet/backup -r\n",
        "!ln -s /content/drive/'My Drive'/ML/backup /content/darknet"
      ],
      "metadata": {
        "id": "K1ydbPxRfifp"
      },
      "execution_count": 5,
      "outputs": []
    },
    {
      "cell_type": "markdown",
      "source": [
        "# Bắt đầu huấn luyện model bằng tập dữ liệu biển báo giao thông"
      ],
      "metadata": {
        "id": "WJIsulmI9b9h"
      }
    },
    {
      "cell_type": "code",
      "source": [
        "%cd /content/darknet\n",
        "!./darknet detector train cfg/ts_data.data cfg/yolov3_ts_train.cfg weights/darknet53.conv.74"
      ],
      "metadata": {
        "id": "mEvKXnsD9o95"
      },
      "execution_count": null,
      "outputs": []
    },
    {
      "cell_type": "markdown",
      "source": [
        "# Kiểm tra đánh giá kết quả file weight bằng phương pháp mAP"
      ],
      "metadata": {
        "id": "cGlcxQlr95Ip"
      }
    },
    {
      "cell_type": "code",
      "source": [
        "%cd /content/darknet\n",
        "!./darknet detector map cfg/ts_data.data cfg/yolov3_ts_train.cfg backup/yolo-obj_8000.weights"
      ],
      "metadata": {
        "id": "_Hb5oZ22-H5R"
      },
      "execution_count": null,
      "outputs": []
    },
    {
      "cell_type": "markdown",
      "source": [
        "Vẽ biểu đồ Average Recall"
      ],
      "metadata": {
        "id": "Cq3ig_1JUQWo"
      }
    },
    {
      "cell_type": "code",
      "source": [
        "%cd /content/darknet\n",
        "!./darknet detector map cfg/coco.data cfg/yolov3.cfg yolov3.weights -iou_thresh 0.50 -points 101"
      ],
      "metadata": {
        "id": "-HbK1rNKUT5e"
      },
      "execution_count": null,
      "outputs": []
    },
    {
      "cell_type": "markdown",
      "source": [
        "# Testing kết quả của model qua image, video và camera realtime"
      ],
      "metadata": {
        "id": "uM7JJ5BtFRjV"
      }
    },
    {
      "cell_type": "markdown",
      "source": [
        "Testing một image"
      ],
      "metadata": {
        "id": "FgViaaveFmgV"
      }
    },
    {
      "cell_type": "code",
      "source": [
        "%cd /content/darknet\n",
        "!./darknet detector test Traffic_sign_YOLO/ts_data.data cfg/yolov3_ts_test.cfg weights/yolov3_ts.weights data/test_capstone/1277384745Image000037.jpg"
      ],
      "metadata": {
        "id": "Xzn0VrdqfkhM"
      },
      "execution_count": null,
      "outputs": []
    },
    {
      "cell_type": "markdown",
      "source": [
        "Testing một video"
      ],
      "metadata": {
        "id": "J5svQTKSF1u1"
      }
    },
    {
      "cell_type": "code",
      "source": [
        "%cd /content/darknet\n",
        "!./darknet detector demo Traffic_sign_YOLO/ts_data.data cfg/yolov3_ts_test.cfg weights/yolov3_ts.weights -dont_show a.mp4 -out_filename result.avi"
      ],
      "metadata": {
        "id": "r7SltGhDF5_b"
      },
      "execution_count": null,
      "outputs": []
    },
    {
      "cell_type": "markdown",
      "source": [
        "Testing thông qua camera realtime"
      ],
      "metadata": {
        "id": "WWHWSkosHyYV"
      }
    },
    {
      "cell_type": "code",
      "source": [
        "%cd /content/darknet\n",
        "!./darknet detector demo Traffic_sign_YOLO/ts_data.data cfg/yolov3_ts_test.cfg weights/yolov3_ts.weights -c 0"
      ],
      "metadata": {
        "id": "89us9wk-H08k"
      },
      "execution_count": null,
      "outputs": []
    },
    {
      "cell_type": "code",
      "source": [
        "from IPython.display import display, Javascript, Image\n",
        "from google.colab.output import eval_js\n",
        "from base64 import b64decode, b64encode\n",
        "import cv2\n",
        "import numpy as np\n",
        "import PIL\n",
        "import io\n",
        "import html\n",
        "import time"
      ],
      "metadata": {
        "id": "I5VvEqXNJAoc"
      },
      "execution_count": 14,
      "outputs": []
    },
    {
      "cell_type": "code",
      "source": [
        "with open('/content/darknet/Traffic_sign_YOLO/classes.names') as f:\n",
        "# with open('/content/darknet/cfg/coco.names') as f:\n",
        "    # Getting labels reading every line\n",
        "    # and putting them into the list\n",
        "    labels = [line.strip() for line in f]"
      ],
      "metadata": {
        "id": "5qVLBlnNJEMk"
      },
      "execution_count": 15,
      "outputs": []
    },
    {
      "cell_type": "code",
      "source": [
        "network = cv2.dnn.readNetFromDarknet('/content/darknet/cfg/yolov3_ts_test.cfg',\n",
        "                                     '/content/darknet/weights/yolov3_ts.weights')\n",
        "# network = cv2.dnn.readNetFromDarknet('/content/darknet/cfg/yolov3.cfg',\n",
        "#                                      '/content/darknet/weights/yolov3.weights')\n",
        "network.setPreferableBackend(cv2.dnn.DNN_BACKEND_OPENCV)\n",
        "network.setPreferableTarget(cv2.dnn.DNN_TARGET_OPENCL_FP16)\n",
        "# network.setPreferableBackend(cv2.dnn.DNN_BACKEND_CUDA)\n",
        "# network.setPreferableTarget(cv2.dnn.DNN_TARGET_CUDA)\n",
        "\n",
        "layers_names_all = network.getLayerNames()\n",
        "layers_names_output = \\\n",
        "    [layers_names_all[i[0] - 1] for i in network.getUnconnectedOutLayers()]\n",
        "probability_minimum = 0.5\n",
        "threshold = 0.3\n",
        "colours = np.random.randint(0, 255, size=(len(labels), 3), dtype='uint8')"
      ],
      "metadata": {
        "id": "d3XdFgpwKB4d"
      },
      "execution_count": 16,
      "outputs": []
    },
    {
      "cell_type": "code",
      "source": [
        "# function to convert the JavaScript object into an OpenCV image\n",
        "def js_to_image(js_reply):\n",
        "  \"\"\"\n",
        "  Params:\n",
        "          js_reply: JavaScript object containing image from webcam\n",
        "  Returns:\n",
        "          img: OpenCV BGR image\n",
        "  \"\"\"\n",
        "  # decode base64 image\n",
        "  image_bytes = b64decode(js_reply.split(',')[1])\n",
        "  # convert bytes to numpy array\n",
        "  jpg_as_np = np.frombuffer(image_bytes, dtype=np.uint8)\n",
        "  # decode numpy array into OpenCV BGR image\n",
        "  img = cv2.imdecode(jpg_as_np, flags=1)\n",
        "\n",
        "  return img\n",
        "\n",
        "# function to convert OpenCV Rectangle bounding box image into base64 byte string to be overlayed on video stream\n",
        "def bbox_to_bytes(bbox_array):\n",
        "  \"\"\"\n",
        "  Params:\n",
        "          bbox_array: Numpy array (pixels) containing rectangle to overlay on video stream.\n",
        "  Returns:\n",
        "        bytes: Base64 image byte string\n",
        "  \"\"\"\n",
        "  # convert array into PIL image\n",
        "  bbox_PIL = PIL.Image.fromarray(bbox_array, 'RGBA')\n",
        "  iobuf = io.BytesIO()\n",
        "  # format bbox into png for return\n",
        "  bbox_PIL.save(iobuf, format='png')\n",
        "  # format return string\n",
        "  bbox_bytes = 'data:image/png;base64,{}'.format((str(b64encode(iobuf.getvalue()), 'utf-8')))\n",
        "\n",
        "  return bbox_bytes"
      ],
      "metadata": {
        "id": "yByRCB7zKWN1"
      },
      "execution_count": 17,
      "outputs": []
    },
    {
      "cell_type": "code",
      "source": [
        "# JavaScript to properly create our live video stream using our webcam as input\n",
        "def video_stream():\n",
        "  js = Javascript('''\n",
        "    var video;\n",
        "    var div = null;\n",
        "    var stream;\n",
        "    var captureCanvas;\n",
        "    var imgElement;\n",
        "    var labelElement;\n",
        "    \n",
        "    var pendingResolve = null;\n",
        "    var shutdown = false;\n",
        "    \n",
        "    function removeDom() {\n",
        "       stream.getVideoTracks()[0].stop();\n",
        "       video.remove();\n",
        "       div.remove();\n",
        "       video = null;\n",
        "       div = null;\n",
        "       stream = null;\n",
        "       imgElement = null;\n",
        "       captureCanvas = null;\n",
        "       labelElement = null;\n",
        "    }\n",
        "    \n",
        "    function onAnimationFrame() {\n",
        "      if (!shutdown) {\n",
        "        window.requestAnimationFrame(onAnimationFrame);\n",
        "      }\n",
        "      if (pendingResolve) {\n",
        "        var result = \"\";\n",
        "        if (!shutdown) {\n",
        "          captureCanvas.getContext('2d').drawImage(video, 0, 0, 640, 480);\n",
        "          result = captureCanvas.toDataURL('image/jpeg', 0.8)\n",
        "        }\n",
        "        var lp = pendingResolve;\n",
        "        pendingResolve = null;\n",
        "        lp(result);\n",
        "      }\n",
        "    }\n",
        "    \n",
        "    async function createDom() {\n",
        "      if (div !== null) {\n",
        "        return stream;\n",
        "      }\n",
        "\n",
        "      div = document.createElement('div');\n",
        "      div.style.border = '2px solid black';\n",
        "      div.style.padding = '3px';\n",
        "      div.style.width = '100%';\n",
        "      div.style.maxWidth = '600px';\n",
        "      document.body.appendChild(div);\n",
        "      \n",
        "      const modelOut = document.createElement('div');\n",
        "      modelOut.innerHTML = \"<span>Status:</span>\";\n",
        "      labelElement = document.createElement('span');\n",
        "      labelElement.innerText = 'No data';\n",
        "      labelElement.style.fontWeight = 'bold';\n",
        "      modelOut.appendChild(labelElement);\n",
        "      div.appendChild(modelOut);\n",
        "           \n",
        "      video = document.createElement('video');\n",
        "      video.style.display = 'block';\n",
        "      video.width = div.clientWidth - 6;\n",
        "      video.setAttribute('playsinline', '');\n",
        "      video.onclick = () => { shutdown = true; };\n",
        "      stream = await navigator.mediaDevices.getUserMedia(\n",
        "          {video: { facingMode: \"environment\"}});\n",
        "      div.appendChild(video);\n",
        "\n",
        "      imgElement = document.createElement('img');\n",
        "      imgElement.style.position = 'absolute';\n",
        "      imgElement.style.zIndex = 1;\n",
        "      imgElement.onclick = () => { shutdown = true; };\n",
        "      div.appendChild(imgElement);\n",
        "      \n",
        "      const instruction = document.createElement('div');\n",
        "      instruction.innerHTML = \n",
        "          '<span style=\"color: red; font-weight: bold;\">' +\n",
        "          'When finished, click here or on the video to stop this demo</span>';\n",
        "      div.appendChild(instruction);\n",
        "      instruction.onclick = () => { shutdown = true; };\n",
        "      \n",
        "      video.srcObject = stream;\n",
        "      await video.play();\n",
        "\n",
        "      captureCanvas = document.createElement('canvas');\n",
        "      captureCanvas.width = 640; //video.videoWidth;\n",
        "      captureCanvas.height = 480; //video.videoHeight;\n",
        "      window.requestAnimationFrame(onAnimationFrame);\n",
        "      \n",
        "      return stream;\n",
        "    }\n",
        "    async function stream_frame(label, imgData) {\n",
        "      if (shutdown) {\n",
        "        removeDom();\n",
        "        shutdown = false;\n",
        "        return '';\n",
        "      }\n",
        "\n",
        "      var preCreate = Date.now();\n",
        "      stream = await createDom();\n",
        "      \n",
        "      var preShow = Date.now();\n",
        "      if (label != \"\") {\n",
        "        labelElement.innerHTML = label;\n",
        "      }\n",
        "            \n",
        "      if (imgData != \"\") {\n",
        "        var videoRect = video.getClientRects()[0];\n",
        "        imgElement.style.top = videoRect.top + \"px\";\n",
        "        imgElement.style.left = videoRect.left + \"px\";\n",
        "        imgElement.style.width = videoRect.width + \"px\";\n",
        "        imgElement.style.height = videoRect.height + \"px\";\n",
        "        imgElement.src = imgData;\n",
        "      }\n",
        "      \n",
        "      var preCapture = Date.now();\n",
        "      var result = await new Promise(function(resolve, reject) {\n",
        "        pendingResolve = resolve;\n",
        "      });\n",
        "      shutdown = false;\n",
        "      \n",
        "      return {'create': preShow - preCreate, \n",
        "              'show': preCapture - preShow, \n",
        "              'capture': Date.now() - preCapture,\n",
        "              'img': result};\n",
        "    }\n",
        "    ''')\n",
        "\n",
        "  display(js)\n",
        "  \n",
        "def video_frame(label, bbox):\n",
        "  data = eval_js('stream_frame(\"{}\", \"{}\")'.format(label, bbox))\n",
        "  return data"
      ],
      "metadata": {
        "id": "CKil4ehmKa3T"
      },
      "execution_count": 18,
      "outputs": []
    },
    {
      "cell_type": "code",
      "source": [
        "h, w = None, None\n",
        "# start streaming video from webcam\n",
        "video_stream()\n",
        "# label for video\n",
        "label_html = 'Capturing...'\n",
        "# initialze bounding box to empty\n",
        "bbox = ''\n",
        "\n",
        "while True:\n",
        "    js_reply = video_frame(label_html, bbox)\n",
        "    if not js_reply:\n",
        "        break\n",
        "    frame = js_to_image(js_reply[\"img\"])\n",
        "    bbox_array = np.zeros([480,640,4], dtype=np.uint8)\n",
        "    \n",
        "    if w is None or h is None:\n",
        "        # Slicing from tuple only first two elements\n",
        "        h, w = frame.shape[:2]\n",
        "\n",
        "    blob = cv2.dnn.blobFromImage(frame, 1 / 255.0, (416, 416),\n",
        "                                 swapRB=True, crop=False)\n",
        "\n",
        "    network.setInput(blob)  # setting blob as input to the network\n",
        "    start = time.time()\n",
        "    output_from_network = network.forward(layers_names_output)\n",
        "    end = time.time()\n",
        "\n",
        "    # Showing spent time for single current frame\n",
        "    #print('Current frame took {:.5f} seconds'.format(end - start))\n",
        "\n",
        "    # Preparing lists for detected bounding boxes,\n",
        "    # obtained confidences and class's number\n",
        "    bounding_boxes = []\n",
        "    confidences = []\n",
        "    class_numbers = []\n",
        "\n",
        "    for result in output_from_network:\n",
        "        for detected_objects in result:\n",
        "            scores = detected_objects[5:]\n",
        "            class_current = np.argmax(scores)\n",
        "            confidence_current = scores[class_current]\n",
        "            if confidence_current > probability_minimum:\n",
        "                box_current = detected_objects[0:4] * np.array([w, h, w, h])\n",
        "                x_center, y_center, box_width, box_height = box_current\n",
        "                x_min = int(x_center - (box_width / 2))\n",
        "                y_min = int(y_center - (box_height / 2))\n",
        "                bounding_boxes.append([x_min, y_min,\n",
        "                                       int(box_width), int(box_height)])\n",
        "                confidences.append(float(confidence_current))\n",
        "                class_numbers.append(class_current)\n",
        "\n",
        "    results = cv2.dnn.NMSBoxes(bounding_boxes, confidences,\n",
        "                               probability_minimum, threshold)\n",
        "    \n",
        "    if len(results) > 0:\n",
        "        # Going through indexes of results\n",
        "        for i in results.flatten():\n",
        "            # Getting current bounding box coordinates,\n",
        "            # its width and height\n",
        "            x_min, y_min = bounding_boxes[i][0], bounding_boxes[i][1]\n",
        "            box_width, box_height = bounding_boxes[i][2], bounding_boxes[i][3]\n",
        "\n",
        "            # Preparing colour for current bounding box\n",
        "            # and converting from numpy array to list\n",
        "            colour_box_current = colours[class_numbers[i]].tolist()\n",
        "\n",
        "            # Drawing bounding box on the original current frame\n",
        "            bbox_array = cv2.rectangle(bbox_array, (x_min, y_min),\n",
        "                          (x_min + box_width, y_min + box_height),\n",
        "                          colour_box_current, 2)\n",
        "\n",
        "            # Preparing text with label and confidence for current bounding box\n",
        "            text_box_current = '{}: {:.4f}'.format(labels[int(class_numbers[i])],\n",
        "                                                   confidences[i])\n",
        "\n",
        "            # Putting text with label and confidence on the original image\n",
        "            bbox_array = cv2.putText(bbox_array, text_box_current, (x_min, y_min - 5),\n",
        "                        cv2.FONT_HERSHEY_SIMPLEX, 0.5, colour_box_current, 2)\n",
        "            \n",
        "    bbox_array[:,:,3] = (bbox_array.max(axis = 2) > 0 ).astype(int) * 255\n",
        "    # convert overlay of bbox into bytes\n",
        "    bbox_bytes = bbox_to_bytes(bbox_array)\n",
        "    # update bbox so next frame gets new overlay\n",
        "    bbox = bbox_bytes\n"
      ],
      "metadata": {
        "colab": {
          "base_uri": "https://localhost:8080/",
          "height": 17
        },
        "id": "IRoBpEezKc5n",
        "outputId": "1219d15d-8f27-40d0-8321-0de4c379b313"
      },
      "execution_count": 19,
      "outputs": [
        {
          "output_type": "display_data",
          "data": {
            "application/javascript": [
              "\n",
              "    var video;\n",
              "    var div = null;\n",
              "    var stream;\n",
              "    var captureCanvas;\n",
              "    var imgElement;\n",
              "    var labelElement;\n",
              "    \n",
              "    var pendingResolve = null;\n",
              "    var shutdown = false;\n",
              "    \n",
              "    function removeDom() {\n",
              "       stream.getVideoTracks()[0].stop();\n",
              "       video.remove();\n",
              "       div.remove();\n",
              "       video = null;\n",
              "       div = null;\n",
              "       stream = null;\n",
              "       imgElement = null;\n",
              "       captureCanvas = null;\n",
              "       labelElement = null;\n",
              "    }\n",
              "    \n",
              "    function onAnimationFrame() {\n",
              "      if (!shutdown) {\n",
              "        window.requestAnimationFrame(onAnimationFrame);\n",
              "      }\n",
              "      if (pendingResolve) {\n",
              "        var result = \"\";\n",
              "        if (!shutdown) {\n",
              "          captureCanvas.getContext('2d').drawImage(video, 0, 0, 640, 480);\n",
              "          result = captureCanvas.toDataURL('image/jpeg', 0.8)\n",
              "        }\n",
              "        var lp = pendingResolve;\n",
              "        pendingResolve = null;\n",
              "        lp(result);\n",
              "      }\n",
              "    }\n",
              "    \n",
              "    async function createDom() {\n",
              "      if (div !== null) {\n",
              "        return stream;\n",
              "      }\n",
              "\n",
              "      div = document.createElement('div');\n",
              "      div.style.border = '2px solid black';\n",
              "      div.style.padding = '3px';\n",
              "      div.style.width = '100%';\n",
              "      div.style.maxWidth = '600px';\n",
              "      document.body.appendChild(div);\n",
              "      \n",
              "      const modelOut = document.createElement('div');\n",
              "      modelOut.innerHTML = \"<span>Status:</span>\";\n",
              "      labelElement = document.createElement('span');\n",
              "      labelElement.innerText = 'No data';\n",
              "      labelElement.style.fontWeight = 'bold';\n",
              "      modelOut.appendChild(labelElement);\n",
              "      div.appendChild(modelOut);\n",
              "           \n",
              "      video = document.createElement('video');\n",
              "      video.style.display = 'block';\n",
              "      video.width = div.clientWidth - 6;\n",
              "      video.setAttribute('playsinline', '');\n",
              "      video.onclick = () => { shutdown = true; };\n",
              "      stream = await navigator.mediaDevices.getUserMedia(\n",
              "          {video: { facingMode: \"environment\"}});\n",
              "      div.appendChild(video);\n",
              "\n",
              "      imgElement = document.createElement('img');\n",
              "      imgElement.style.position = 'absolute';\n",
              "      imgElement.style.zIndex = 1;\n",
              "      imgElement.onclick = () => { shutdown = true; };\n",
              "      div.appendChild(imgElement);\n",
              "      \n",
              "      const instruction = document.createElement('div');\n",
              "      instruction.innerHTML = \n",
              "          '<span style=\"color: red; font-weight: bold;\">' +\n",
              "          'When finished, click here or on the video to stop this demo</span>';\n",
              "      div.appendChild(instruction);\n",
              "      instruction.onclick = () => { shutdown = true; };\n",
              "      \n",
              "      video.srcObject = stream;\n",
              "      await video.play();\n",
              "\n",
              "      captureCanvas = document.createElement('canvas');\n",
              "      captureCanvas.width = 640; //video.videoWidth;\n",
              "      captureCanvas.height = 480; //video.videoHeight;\n",
              "      window.requestAnimationFrame(onAnimationFrame);\n",
              "      \n",
              "      return stream;\n",
              "    }\n",
              "    async function stream_frame(label, imgData) {\n",
              "      if (shutdown) {\n",
              "        removeDom();\n",
              "        shutdown = false;\n",
              "        return '';\n",
              "      }\n",
              "\n",
              "      var preCreate = Date.now();\n",
              "      stream = await createDom();\n",
              "      \n",
              "      var preShow = Date.now();\n",
              "      if (label != \"\") {\n",
              "        labelElement.innerHTML = label;\n",
              "      }\n",
              "            \n",
              "      if (imgData != \"\") {\n",
              "        var videoRect = video.getClientRects()[0];\n",
              "        imgElement.style.top = videoRect.top + \"px\";\n",
              "        imgElement.style.left = videoRect.left + \"px\";\n",
              "        imgElement.style.width = videoRect.width + \"px\";\n",
              "        imgElement.style.height = videoRect.height + \"px\";\n",
              "        imgElement.src = imgData;\n",
              "      }\n",
              "      \n",
              "      var preCapture = Date.now();\n",
              "      var result = await new Promise(function(resolve, reject) {\n",
              "        pendingResolve = resolve;\n",
              "      });\n",
              "      shutdown = false;\n",
              "      \n",
              "      return {'create': preShow - preCreate, \n",
              "              'show': preCapture - preShow, \n",
              "              'capture': Date.now() - preCapture,\n",
              "              'img': result};\n",
              "    }\n",
              "    "
            ],
            "text/plain": [
              "<IPython.core.display.Javascript object>"
            ]
          },
          "metadata": {}
        }
      ]
    }
  ]
}